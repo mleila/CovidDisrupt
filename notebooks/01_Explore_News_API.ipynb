{
 "cells": [
  {
   "cell_type": "markdown",
   "metadata": {},
   "source": [
    "# Introduction\n",
    "In this notebook we explore the news API"
   ]
  },
  {
   "cell_type": "code",
   "execution_count": 1,
   "metadata": {},
   "outputs": [],
   "source": [
    "%load_ext autoreload\n",
    "%autoreload 2"
   ]
  },
  {
   "cell_type": "code",
   "execution_count": 39,
   "metadata": {},
   "outputs": [],
   "source": [
    "from covid.config import Config, Secrets\n",
    "from covid.ingestion.newsapi import create_newsapi_client, query_articles\n",
    "from covid.utils.io import write_text_to_s3\n",
    "from covid.utils.aws import create_s3_resource"
   ]
  },
  {
   "cell_type": "markdown",
   "metadata": {},
   "source": [
    "# Setup"
   ]
  },
  {
   "cell_type": "code",
   "execution_count": 40,
   "metadata": {},
   "outputs": [],
   "source": [
    "# setup config object\n",
    "path_to_config = '../config.json'\n",
    "config = Config(path_to_config)\n",
    "\n",
    "# fetch api key from local secrets.json\n",
    "path_to_secrets = '../secrets.json'\n",
    "secrets = Secrets(path_to_secrets)\n",
    "\n",
    "# create newsapi client\n",
    "api_key = secrets.GOOGLE_NEWS_API_KEY\n",
    "client = create_newsapi_client(api_key)"
   ]
  },
  {
   "cell_type": "markdown",
   "metadata": {},
   "source": [
    "# Explore available news sources"
   ]
  },
  {
   "cell_type": "code",
   "execution_count": 19,
   "metadata": {},
   "outputs": [
    {
     "name": "stdout",
     "output_type": "stream",
     "text": [
      "['abc-news', 'abc-news-au', 'aftenposten', 'al-jazeera-english', 'ansa']\n"
     ]
    }
   ],
   "source": [
    "sources = [s['id'] for s in newsapi.get_sources()['sources']]\n",
    "print(sources[:5])"
   ]
  },
  {
   "cell_type": "markdown",
   "metadata": {},
   "source": [
    "# Query articles"
   ]
  },
  {
   "cell_type": "code",
   "execution_count": 20,
   "metadata": {},
   "outputs": [
    {
     "name": "stdout",
     "output_type": "stream",
     "text": [
      "Retrieved 100 Articles\n"
     ]
    }
   ],
   "source": [
    "keywords = 'corona OR covid OR coronavirus'\n",
    "start_date = '2020-02-26'\n",
    "end_date = '2020-03-29'\n",
    "\n",
    "articles = query_articles(client, keywords, start_date, end_date)\n",
    "\n",
    "print(f\"Retrieved {len(articles)} Articles\")"
   ]
  },
  {
   "cell_type": "markdown",
   "metadata": {},
   "source": [
    "# Write to S3\n",
    "\n",
    "All data should be in one single text file. Each article's description on a separate line."
   ]
  },
  {
   "cell_type": "code",
   "execution_count": 51,
   "metadata": {},
   "outputs": [],
   "source": [
    "s3_resource = create_s3_resource(region_name='us-east-1')\n",
    "bucket = config.DEFAULT_BUCKET\n",
    "path = 'raw/articles.txt'\n",
    "\n",
    "text = ''\n",
    "for article in articles:\n",
    "    text += article['description'] + ' \\n'\n",
    "text = text[:-3]   \n",
    "\n",
    "write_text_to_s3(s3_resource, bucket, text, path)"
   ]
  }
 ],
 "metadata": {
  "kernelspec": {
   "display_name": "mistplay",
   "language": "python",
   "name": "mistplay"
  },
  "language_info": {
   "codemirror_mode": {
    "name": "ipython",
    "version": 3
   },
   "file_extension": ".py",
   "mimetype": "text/x-python",
   "name": "python",
   "nbconvert_exporter": "python",
   "pygments_lexer": "ipython3",
   "version": "3.6.8"
  },
  "toc": {
   "base_numbering": 1,
   "nav_menu": {},
   "number_sections": true,
   "sideBar": true,
   "skip_h1_title": false,
   "title_cell": "Table of Contents",
   "title_sidebar": "Contents",
   "toc_cell": false,
   "toc_position": {},
   "toc_section_display": true,
   "toc_window_display": true
  }
 },
 "nbformat": 4,
 "nbformat_minor": 2
}
